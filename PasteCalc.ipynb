{
  "nbformat": 4,
  "nbformat_minor": 0,
  "metadata": {
    "colab": {
      "private_outputs": true,
      "provenance": [],
      "cell_execution_strategy": "setup",
      "authorship_tag": "ABX9TyNGGY+/LxlLah4In1QL2Ez/",
      "include_colab_link": true
    },
    "kernelspec": {
      "name": "python3",
      "display_name": "Python 3"
    },
    "language_info": {
      "name": "python"
    }
  },
  "cells": [
    {
      "cell_type": "markdown",
      "metadata": {
        "id": "view-in-github",
        "colab_type": "text"
      },
      "source": [
        "<a href=\"https://colab.research.google.com/github/andylehti/PasteCalculation/blob/main/PasteCalc.ipynb\" target=\"_parent\"><img src=\"https://colab.research.google.com/assets/colab-badge.svg\" alt=\"Open In Colab\"/></a>"
      ]
    },
    {
      "cell_type": "markdown",
      "source": [
        "###### **Code Logic:**\n",
        "2023 ℗ Public Resource License v2, Andrew Lehti"
      ],
      "metadata": {
        "id": "2CCrBZt0URTc"
      }
    },
    {
      "cell_type": "code",
      "execution_count": null,
      "metadata": {
        "id": "K6nwefL8Q441"
      },
      "outputs": [],
      "source": [
        "import mpmath\n",
        "\n",
        "def calculate_result(v, number, operation, precision, print_iterations, output_option):\n",
        "    mpmath.mp.dps = 1000 + precision\n",
        "\n",
        "    # Remove non-numerical values, spaces, and empty lines\n",
        "    values = [val for val in v.strip().split('\\n') if val.isnumeric()]\n",
        "\n",
        "    array = list(map(int, values))\n",
        "\n",
        "    if number == 0:\n",
        "        total_result = mpmath.mpf(array.pop(0))\n",
        "    else:\n",
        "        total_result = mpmath.mpf(number)\n",
        "\n",
        "    for i, value in enumerate(array):\n",
        "        if operation == 0:\n",
        "            total_result += value\n",
        "        elif operation == 1:\n",
        "            total_result -= value\n",
        "        elif operation == 2:\n",
        "            total_result *= value\n",
        "        elif operation == 3:\n",
        "            total_result /= value\n",
        "        else:\n",
        "            raise ValueError(\"Invalid operation. Please choose 0 for 'add', 1 for 'subtract', 2 for 'multiply', or 3 for 'divide'.\")\n",
        "\n",
        "        if print_iterations:\n",
        "            print(f\"Iteration {i+1}: {total_result}\")\n",
        "\n",
        "    output_options = {\n",
        "        0: f\"The result in scientific notation is: {mpmath.nstr(total_result, 10, min_fixed=0, max_fixed=0)}\",\n",
        "        1: f\"The full result is: {total_result}\",\n",
        "        2: \"calcd.txt\",\n",
        "        3: f\"The truncated result is: {str(total_result)[:101]}\"\n",
        "    }\n",
        "\n",
        "    if output_option in output_options:\n",
        "        if output_option == 2:\n",
        "            with open(output_options[output_option], 'w') as f:\n",
        "                f.write(str(total_result))\n",
        "            print(\"The result has been saved to 'calcd.txt'.\")\n",
        "        else:\n",
        "            print(output_options[output_option])\n",
        "    else:\n",
        "        raise ValueError(\"Invalid output option. Please choose between 0, 1, 2, and 3.\")\n"
      ]
    },
    {
      "cell_type": "markdown",
      "source": [
        "###### **PASTE VALUES BETWEEN ''' AND PRESS RUN TO CALCULATE, CHANGE PARAMETERS AS NEEDED**"
      ],
      "metadata": {
        "id": "5rNDKdAcUs6U"
      }
    },
    {
      "cell_type": "code",
      "source": [
        "v = '''\n",
        "\n",
        "2\n",
        "\n",
        "# paste values here, whitespaces, spaces, non-numerical values, empty spaces are sanitized so there should not be an issue\n",
        "\n",
        "45\n",
        "\n",
        "2 5 except this will be 25 most likely. and now it will be twentyfivetwentyfive because I mentioned twenty five again\n",
        "'''\n",
        "\n",
        "number = 0  # addition, subtraction, multiplication and division will add to, subtract from, multiply by, and divide by each in array respectively\n",
        "operation = 2  # operation: 0 = \"add\", 1 = \"subtract\", 2 = \"multiply\", 3 = \"divide\"\n",
        "precision = 15  # dynamic precision (adjust as needed)\n",
        "print_iterations = True  # option to print result after each iteration\n",
        "output_option = 1  # output options: 0 = partial scientific, 1 = full, 2 = save to file, 3 = partial truncated\n",
        "\n",
        "# Call the function with the specified variables\n",
        "calculate_result(v, number, operation, precision, print_iterations, output_option)"
      ],
      "metadata": {
        "id": "lOqYnpFGROwu"
      },
      "execution_count": null,
      "outputs": []
    }
  ]
}
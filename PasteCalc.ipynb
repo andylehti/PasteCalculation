{
  "nbformat": 4,
  "nbformat_minor": 0,
  "metadata": {
    "colab": {
      "private_outputs": true,
      "provenance": [],
      "cell_execution_strategy": "setup",
      "authorship_tag": "ABX9TyMzbjsThJamMBCSRViLTUqo",
      "include_colab_link": true
    },
    "kernelspec": {
      "name": "python3",
      "display_name": "Python 3"
    },
    "language_info": {
      "name": "python"
    }
  },
  "cells": [
    {
      "cell_type": "markdown",
      "metadata": {
        "id": "view-in-github",
        "colab_type": "text"
      },
      "source": [
        "<a href=\"https://colab.research.google.com/github/andylehti/PasteCalculation/blob/main/PasteCalc.ipynb\" target=\"_parent\"><img src=\"https://colab.research.google.com/assets/colab-badge.svg\" alt=\"Open In Colab\"/></a>"
      ]
    },
    {
      "cell_type": "markdown",
      "source": [
        "###### **Code Logic:**\n",
        "2023 ℗ Public Resource License v2, Andrew Lehti\n",
        "\n",
        "\n",
        "---\n",
        "\n",
        "\n",
        "*Hide this cell and use the cluster-free section below this to call this code*"
      ],
      "metadata": {
        "id": "2CCrBZt0URTc"
      }
    },
    {
      "cell_type": "code",
      "execution_count": null,
      "metadata": {
        "id": "K6nwefL8Q441"
      },
      "outputs": [],
      "source": [
        "import mpmath\n",
        "import re\n",
        "import math\n",
        "\n",
        "def calculate_result(v, number, operation, precision, output_option):\n",
        "    mpmath.mp.dps = 1000 + precision\n",
        "\n",
        "    lines = v.split('\\n')\n",
        "\n",
        "    array = []\n",
        "    for line in lines:\n",
        "        values = re.findall(r'\\d+', line)\n",
        "        if values:\n",
        "            array.extend(map(int, values))\n",
        "\n",
        "    if number == 0:\n",
        "        total_result = mpmath.mpf(array.pop(0))\n",
        "    else:\n",
        "        total_result = mpmath.mpf(number)\n",
        "\n",
        "    result_strings = []  # To store the equations of each iteration\n",
        "\n",
        "    for i, value in enumerate(array):\n",
        "        last_result = total_result\n",
        "\n",
        "        if operation == 0:\n",
        "            total_result += value\n",
        "            operation_symbol = '+'\n",
        "        elif operation == 1:\n",
        "            total_result -= value\n",
        "            operation_symbol = '-'\n",
        "        elif operation == 2:\n",
        "            total_result *= value\n",
        "            operation_symbol = '⋅'\n",
        "        elif operation == 3:\n",
        "            total_result /= value\n",
        "            operation_symbol = '/'\n",
        "        else:\n",
        "            raise ValueError(\"Invalid operation. Please choose 0 for 'add', 1 for 'subtract', 2 for 'multiply', or 3 for 'divide'.\")\n",
        "\n",
        "        if output_option[0] == -1:\n",
        "            output_result = f\"{mpmath.floor(total_result)}\"\n",
        "        elif output_option[0] == 0:\n",
        "            output_result = f\"{mpmath.nstr(total_result, 10, min_fixed=0, max_fixed=0)}\"\n",
        "        elif output_option[0] == 1:\n",
        "            output_result = f\"{math.ceil(total_result)}\"\n",
        "        elif output_option[0] == 2:\n",
        "            output_result = f\"{total_result}\"\n",
        "        elif output_option[0] == 3:\n",
        "            output_result = f\"{str(total_result)[:101]}\"\n",
        "\n",
        "        if output_option[3]:  # show_equation is True\n",
        "            result_string = f\"{last_result} {operation_symbol} {value} = {output_result}\"\n",
        "        else:\n",
        "            result_string = f\"{output_result}\"\n",
        "\n",
        "        result_strings.append(result_string)\n",
        "\n",
        "        if output_option[2]:  # print_iterations is True\n",
        "            print(result_string)\n",
        "\n",
        "    # Final output result\n",
        "    if output_option[0] == -1:\n",
        "        final_output = f\"The full rounded down result is: {mpmath.floor(total_result)}\"\n",
        "    elif output_option[0] == 0:\n",
        "        final_output = f\"The result in scientific notation is: {mpmath.nstr(total_result, 10, min_fixed=0, max_fixed=0)}\"\n",
        "    elif output_option[0] == 1:\n",
        "        final_output = f\"The full rounded up result is: {math.ceil(total_result)}\"\n",
        "    elif output_option[0] == 2:\n",
        "        final_output = f\"The full result is: {total_result}\"\n",
        "    elif output_option[0] == 3:\n",
        "        final_output = f\"The truncated result is: {str(total_result)[:101]}\"\n",
        "\n",
        "    print(final_output)\n",
        "\n",
        "    if output_option[1]:  # save final result to file\n",
        "        with open(\"calcd.txt\", 'w') as f:\n",
        "            f.write(final_output)\n",
        "        print(\"The final result has been saved to 'calcd.txt'.\")\n",
        "\n",
        "    if output_option[2]:  # save all outputs to file\n",
        "        with open(\"calcd_all.txt\", 'w') as f:\n",
        "            f.write('\\n'.join(result_strings))\n",
        "            f.write('\\n' + final_output)\n",
        "        print(\"The iterations and final result have been saved to 'calcd_all.txt'.\")\n"
      ]
    },
    {
      "cell_type": "markdown",
      "source": [
        "###### **PASTE VALUES BETWEEN ''' AND PRESS RUN TO CALCULATE, CHANGE PARAMETERS AS NEEDED**"
      ],
      "metadata": {
        "id": "5rNDKdAcUs6U"
      }
    },
    {
      "cell_type": "code",
      "source": [
        "v = '''\n",
        "enter your data here\n",
        "it will 5 remove all but 57 the 6 numbers 2 between\n",
        "and\n",
        "\n",
        "\n",
        "\n",
        "\n",
        "\n",
        "\n",
        "empty lines, lines with spaces or tabs do not matter 3535\n",
        "press play\n",
        "\n",
        "'''\n",
        "\n",
        "number = 0  # addition, subtraction, multiplication and division will add to, subtract from, multiply by, and divide by each in array respectively\n",
        "operation = 0  # operation: 0 = \"add\", 1 = \"subtract\", 2 = \"multiply\", 3 = \"divide\"\n",
        "precision = 15  # dynamic precision (adjust as needed)\n",
        "output_option = (1, True, True, True)  # (output_format, save_to_file, print_iterations, show_equation)\n",
        "\n",
        "# Call the function with the specified variables\n",
        "calculate_result(v, number, operation, precision, output_option)"
      ],
      "metadata": {
        "id": "lOqYnpFGROwu"
      },
      "execution_count": null,
      "outputs": []
    },
    {
      "cell_type": "markdown",
      "source": [
        "### output_option:\n",
        "\n",
        "```\n",
        "---  (X, True, True, True)\n",
        "A number indicating the style of the output:\n",
        "-1 = full rounded down outputs,\n",
        " 0 = partial scientific (displays 10 digits),\n",
        " 1 = full rounded up outputs,\n",
        " 2 = full output, no scientific notation, as many decimals as dps + precision are set to,\n",
        " 3 = partial truncated (truncates all but 100 digits).\n",
        "\n",
        "--- (0, X, True, True)\n",
        "A boolean indicating whether the result should be saved to a file.\n",
        "\n",
        "--- (0, True, X, True)\n",
        "A boolean indicating whether the result of each iteration should be\n",
        "printed or saved to a file (based on the value of the second boolean\n",
        "in the tuple).\n",
        "\n",
        "--- (0, True, True, X)\n",
        "A boolean if set to True will show the equation\n",
        "```\n",
        "\n"
      ],
      "metadata": {
        "id": "Z6AsyDwWtjwC"
      }
    },
    {
      "cell_type": "code",
      "source": [
        "v = '''\n",
        "199999999999999\n",
        "19999999999999\n",
        "1999999999999\n",
        "199999999999\n",
        "19999999999\n",
        "1999999999\n",
        "199999999\n",
        "19999999\n",
        "1999999\n",
        "199999\n",
        "19999\n",
        "1999\n",
        "199\n",
        "19\n",
        "1\n",
        "'''\n",
        "\n",
        "number = 0\n",
        "operation = 0\n",
        "precision = 15\n",
        "output_option = (1, True, True, True)\n",
        "\n",
        "calculate_result(v, number, operation, precision, output_option)"
      ],
      "metadata": {
        "id": "BPiTySmyvDlT"
      },
      "execution_count": null,
      "outputs": []
    }
  ]
}